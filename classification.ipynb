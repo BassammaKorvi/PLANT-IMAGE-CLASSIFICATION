{
 "cells": [
  {
   "cell_type": "code",
   "execution_count": 1,
   "id": "932a050d",
   "metadata": {},
   "outputs": [],
   "source": [
    "from tensorflow.keras.models import Sequential\n",
    "from keras.layers import Conv2D, Flatten, MaxPooling2D, Dense, Dropout, SpatialDropout2D\n",
    "from tensorflow.keras.losses import sparse_categorical_crossentropy, binary_crossentropy\n",
    "from tensorflow.keras.optimizers import Adam\n",
    "from tensorflow.keras.preprocessing.image import ImageDataGenerator"
   ]
  },
  {
   "cell_type": "code",
   "execution_count": 3,
   "id": "5a213123",
   "metadata": {},
   "outputs": [
    {
     "name": "stdout",
     "output_type": "stream",
     "text": [
      "['Potato___Early_blight', 'Potato___healthy', 'Potato___Late_blight']\n"
     ]
    }
   ],
   "source": [
    "import os\n",
    "import matplotlib.pyplot as plt\n",
    "from PIL import Image\n",
    "import math\n",
    "\n",
    "dir_example = \"C:/Users/chanu/Desktop/intern\"\n",
    "\n",
    "classes = os.listdir(dir_example)\n",
    "print(classes)"
   ]
  },
  {
   "cell_type": "code",
   "execution_count": 4,
   "id": "3d915fed",
   "metadata": {},
   "outputs": [
    {
     "name": "stderr",
     "output_type": "stream",
     "text": [
      "Copying files: 2152 files [00:25, 85.76 files/s] \n"
     ]
    }
   ],
   "source": [
    "import splitfolders\n",
    "\n",
    "# Split the data into training, validation, and testing sets\n",
    "input_dir = 'C:/Users/chanu/Desktop/intern'\n",
    "output_dir = 'C:/Users/chanu/Desktop/intern________________'\n",
    "splitfolders.ratio(input_dir, output_dir, seed=42, ratio=(0.8,0.0, 0.2))\n",
    "\n",
    "train_dir = output_dir + '/train'\n",
    "# val_dir=output_dir + '/val'\n",
    "test_dir=output_dir + '/test'\n",
    "\n",
    "import glob\n",
    "train_files = glob.glob(train_dir + '/**/*.jpg', recursive=True)\n",
    "# val_files = glob.glob(val_dir + '/**/*.jpg', recursive=True)\n",
    "test_files = glob.glob(test_dir + '/**/*.jpg', recursive=True)"
   ]
  },
  {
   "cell_type": "code",
   "execution_count": 6,
   "id": "6fd7cfeb",
   "metadata": {},
   "outputs": [
    {
     "name": "stdout",
     "output_type": "stream",
     "text": [
      "['Potato___Early_blight', 'Potato___healthy', 'Potato___Late_blight']\n"
     ]
    }
   ],
   "source": [
    "dir_example = \"C:/Users/chanu/Desktop/intern________________/train\"\n",
    "\n",
    "train_classes = os.listdir(dir_example)\n",
    "print(train_classes)"
   ]
  },
  {
   "cell_type": "code",
   "execution_count": 7,
   "id": "0536f062",
   "metadata": {},
   "outputs": [],
   "source": [
    "train = 'C:/Users/chanu/Desktop/intern________________/train'\n",
    "test = 'C:/Users/chanu/Desktop/intern________________/test'"
   ]
  },
  {
   "cell_type": "code",
   "execution_count": 8,
   "id": "4e5b94a8",
   "metadata": {},
   "outputs": [
    {
     "name": "stdout",
     "output_type": "stream",
     "text": [
      "Found 1721 images belonging to 3 classes.\n",
      "{'Potato___Early_blight': 0, 'Potato___Late_blight': 1, 'Potato___healthy': 2} \n",
      "\n",
      "{0: 'Potato___Early_blight', 1: 'Potato___Late_blight', 2: 'Potato___healthy'}\n"
     ]
    }
   ],
   "source": [
    "train_generator = ImageDataGenerator(rescale = 1/255)\n",
    "\n",
    "train_generator = train_generator.flow_from_directory(train,\n",
    "                                                      target_size = (300,300),\n",
    "                                                      batch_size = 32,\n",
    "                                                      class_mode = 'sparse')\n",
    "\n",
    "labels = (train_generator.class_indices)\n",
    "print(labels,'\\n')\n",
    "\n",
    "labels = dict((v,k) for k,v in labels.items())\n",
    "print(labels)"
   ]
  },
  {
   "cell_type": "code",
   "execution_count": 9,
   "id": "a43654e6",
   "metadata": {},
   "outputs": [
    {
     "data": {
      "text/plain": [
       "((32, 300, 300, 3), (32,))"
      ]
     },
     "execution_count": 9,
     "metadata": {},
     "output_type": "execute_result"
    }
   ],
   "source": [
    "for image_batch, label_batch in train_generator:\n",
    "  break\n",
    "image_batch.shape, label_batch.shape"
   ]
  },
  {
   "cell_type": "code",
   "execution_count": 10,
   "id": "64f619e2",
   "metadata": {},
   "outputs": [
    {
     "name": "stdout",
     "output_type": "stream",
     "text": [
      "Found 431 images belonging to 3 classes.\n",
      "{'Potato___Early_blight': 0, 'Potato___Late_blight': 1, 'Potato___healthy': 2} \n",
      "\n",
      "{0: 'Potato___Early_blight', 1: 'Potato___Late_blight', 2: 'Potato___healthy'}\n"
     ]
    }
   ],
   "source": [
    "test_generator = ImageDataGenerator(rescale = 1./255)\n",
    "\n",
    "test_generator = test_generator.flow_from_directory(test,\n",
    "                                                    target_size = (300,300),\n",
    "                                                    batch_size = 32,\n",
    "                                                    class_mode = 'sparse')\n",
    "\n",
    "test_labels = (test_generator.class_indices)\n",
    "print(test_labels,'\\n')\n",
    "\n",
    "test_labels = dict((v,k) for k,v in test_labels.items())\n",
    "print(test_labels)"
   ]
  },
  {
   "cell_type": "code",
   "execution_count": 11,
   "id": "466cebf0",
   "metadata": {},
   "outputs": [
    {
     "data": {
      "text/plain": [
       "((32, 300, 300, 3), (32,))"
      ]
     },
     "execution_count": 11,
     "metadata": {},
     "output_type": "execute_result"
    }
   ],
   "source": [
    "for image_batch, label_batch in test_generator:\n",
    "  break\n",
    "image_batch.shape, label_batch.shape"
   ]
  },
  {
   "cell_type": "code",
   "execution_count": 12,
   "id": "c7b5697b",
   "metadata": {},
   "outputs": [
    {
     "name": "stdout",
     "output_type": "stream",
     "text": [
      "{'Potato___Early_blight': 0, 'Potato___Late_blight': 1, 'Potato___healthy': 2}\n"
     ]
    }
   ],
   "source": [
    "print(train_generator.class_indices)\n",
    "Labels = '\\n'.join(sorted(train_generator.class_indices.keys()))\n",
    "\n",
    "with open('Labels.txt', 'w') as file:\n",
    "  file.write(Labels)"
   ]
  },
  {
   "cell_type": "code",
   "execution_count": 13,
   "id": "4de3f71f",
   "metadata": {},
   "outputs": [
    {
     "name": "stdout",
     "output_type": "stream",
     "text": [
      "Found 1721 files belonging to 3 classes.\n",
      "Found 431 files belonging to 3 classes.\n",
      "Epoch 1/10\n",
      "54/54 [==============================] - 37s 519ms/step - loss: 11.1521 - accuracy: 0.6438\n",
      "Epoch 2/10\n",
      "54/54 [==============================] - 28s 517ms/step - loss: 0.3793 - accuracy: 0.8530\n",
      "Epoch 3/10\n",
      "54/54 [==============================] - 27s 507ms/step - loss: 0.5697 - accuracy: 0.8251\n",
      "Epoch 4/10\n",
      "54/54 [==============================] - 27s 494ms/step - loss: 0.3046 - accuracy: 0.8919\n",
      "Epoch 5/10\n",
      "54/54 [==============================] - 28s 507ms/step - loss: 0.1975 - accuracy: 0.9279\n",
      "Epoch 6/10\n",
      "54/54 [==============================] - 25s 456ms/step - loss: 0.1230 - accuracy: 0.9576\n",
      "Epoch 7/10\n",
      "54/54 [==============================] - 24s 440ms/step - loss: 0.0724 - accuracy: 0.9744\n",
      "Epoch 8/10\n",
      "54/54 [==============================] - 25s 457ms/step - loss: 0.0656 - accuracy: 0.9739\n",
      "Epoch 9/10\n",
      "54/54 [==============================] - 24s 436ms/step - loss: 0.0616 - accuracy: 0.9762\n",
      "Epoch 10/10\n",
      "54/54 [==============================] - 25s 459ms/step - loss: 0.0615 - accuracy: 0.9808\n"
     ]
    }
   ],
   "source": [
    "import tensorflow as tf\n",
    "import matplotlib.pyplot as plt\n",
    "from tensorflow.keras import layers\n",
    "\n",
    "# Define the input shape of the images\n",
    "input_shape = (128, 128, 3)  # assuming RGB images of size 128x128\n",
    "\n",
    "# Define the number of classes to predict\n",
    "num_classes = 10  # replace with the number of classes in your dataset\n",
    "\n",
    "# Define the model architecture\n",
    "model = tf.keras.Sequential([\n",
    "    layers.Conv2D(32, (3, 3), activation='relu', input_shape=input_shape),\n",
    "    layers.MaxPooling2D((2, 2)),\n",
    "    layers.Conv2D(64, (3, 3), activation='relu'),\n",
    "    layers.MaxPooling2D((2, 2)),\n",
    "    layers.Conv2D(64, (3, 3), activation='relu'),\n",
    "    layers.Flatten(),\n",
    "    layers.Dense(64, activation='relu'),\n",
    "    layers.Dense(num_classes)\n",
    "])\n",
    "\n",
    "# Compile the model\n",
    "model.compile(optimizer='adam',\n",
    "              loss=tf.keras.losses.SparseCategoricalCrossentropy(from_logits=True),\n",
    "              metrics=['accuracy'])\n",
    "\n",
    "# Load the data\n",
    "train_ds = tf.keras.preprocessing.image_dataset_from_directory(\n",
    "    'C:/Users/chanu/Desktop/intern________________/train',\n",
    "    image_size=input_shape[:2],\n",
    "    batch_size=32)\n",
    "test_ds = tf.keras.preprocessing.image_dataset_from_directory(\n",
    "    'C:/Users/chanu/Desktop/intern________________/test',\n",
    "    image_size=input_shape[:2],\n",
    "    batch_size=32)\n",
    "\n",
    "# Preprocess the data\n",
    "AUTOTUNE = tf.data.AUTOTUNE\n",
    "train_ds = train_ds.cache().shuffle(1000).prefetch(buffer_size=AUTOTUNE)\n",
    "test_ds = test_ds.cache().prefetch(buffer_size=AUTOTUNE)\n",
    "\n",
    "# Train the model\n",
    "history = model.fit(train_ds,epochs=10)\n",
    "\n",
    "# Plot the training and validation accuracy and loss\n",
    "acc = history.history['accuracy']\n",
    "loss = history.history['loss']"
   ]
  },
  {
   "cell_type": "code",
   "execution_count": 18,
   "id": "6773b6bd",
   "metadata": {},
   "outputs": [
    {
     "name": "stderr",
     "output_type": "stream",
     "text": [
      "WARNING:absl:Found untraced functions such as _jit_compiled_convolution_op, _jit_compiled_convolution_op, _jit_compiled_convolution_op, _update_step_xla while saving (showing 4 of 4). These functions will not be directly callable after loading.\n"
     ]
    },
    {
     "name": "stdout",
     "output_type": "stream",
     "text": [
      "INFO:tensorflow:Assets written to: C:/Users/chanu/PycharmProjects/internclassification\\assets\n"
     ]
    },
    {
     "name": "stderr",
     "output_type": "stream",
     "text": [
      "INFO:tensorflow:Assets written to: C:/Users/chanu/PycharmProjects/internclassification\\assets\n"
     ]
    }
   ],
   "source": [
    "model.save('C:/Users/chanu/PycharmProjects/internclassification')"
   ]
  },
  {
   "cell_type": "code",
   "execution_count": 21,
   "id": "0ba152f8",
   "metadata": {},
   "outputs": [
    {
     "name": "stdout",
     "output_type": "stream",
     "text": [
      "enter the image pathC:/Users/chanu/Downloads/WhatsApp Image 2023-07-05 at 13.07.53.jpeg\n",
      "1/1 [==============================] - 0s 79ms/step\n",
      "Predicted class label: Potato___Early_blight\n"
     ]
    }
   ],
   "source": [
    "# Import necessary libraries\n",
    "import tensorflow as tf\n",
    "from tensorflow.keras.preprocessing import image\n",
    "import numpy as np\n",
    "import os\n",
    "\n",
    "# Load the pre-trained model\n",
    "model = tf.keras.models.load_model('C:/Users/chanu/PycharmProjects/internclassification')\n",
    "\n",
    "# Define the class labels\n",
    "class_labels = ['Potato___Early_blight', 'Potato___healthy', 'Potato___Late_blight']\n",
    "\n",
    "# Define a function for predicting the class label of an image\n",
    "def predict_image(image_path):\n",
    "    # Load the image\n",
    "    img = image.load_img(image_path, target_size=(128, 128))\n",
    "    # Preprocess the image\n",
    "    img_array = image.img_to_array(img)\n",
    "    img_array = np.expand_dims(img_array, axis=0)\n",
    "    img_array = tf.keras.applications.mobilenet_v2.preprocess_input(img_array)\n",
    "    # Make predictions\n",
    "    predictions = model.predict(img_array)\n",
    "    # Get the predicted class label\n",
    "    predicted_label = class_labels[np.argmax(predictions)]\n",
    "    # Return the predicted class label\n",
    "    return predicted_label\n",
    "\n",
    "# Get the path of the image uploaded by the user\n",
    "image_path = input('enter the image path')\n",
    "\n",
    "# Check if the image exist\n",
    "if os.path.exists(image_path):\n",
    "    # Predict the class label of the image\n",
    "    predicted_label = predict_image(image_path)\n",
    "    # Show the image and predicted class label\n",
    "    img = image.load_img(image_path, target_size=(128, 128))\n",
    "    img.show()\n",
    "    print('Predicted class label:', predicted_label)\n",
    "else:\n",
    "    print('The specified image does not exist.')"
   ]
  },
  {
   "cell_type": "code",
   "execution_count": null,
   "id": "925fe081",
   "metadata": {},
   "outputs": [],
   "source": []
  }
 ],
 "metadata": {
  "kernelspec": {
   "display_name": "Python 3 (ipykernel)",
   "language": "python",
   "name": "python3"
  },
  "language_info": {
   "codemirror_mode": {
    "name": "ipython",
    "version": 3
   },
   "file_extension": ".py",
   "mimetype": "text/x-python",
   "name": "python",
   "nbconvert_exporter": "python",
   "pygments_lexer": "ipython3",
   "version": "3.9.12"
  }
 },
 "nbformat": 4,
 "nbformat_minor": 5
}
